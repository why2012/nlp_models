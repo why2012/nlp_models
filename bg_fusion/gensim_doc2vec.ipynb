{
 "cells": [
  {
   "cell_type": "code",
   "execution_count": 1,
   "metadata": {},
   "outputs": [
    {
     "name": "stderr",
     "output_type": "stream",
     "text": [
      "D:\\Miniconda3\\lib\\site-packages\\gensim\\utils.py:1197: UserWarning: detected Windows; aliasing chunkize to chunkize_serial\n",
      "  warnings.warn(\"detected Windows; aliasing chunkize to chunkize_serial\")\n",
      "D:\\Miniconda3\\lib\\site-packages\\h5py\\__init__.py:34: FutureWarning: Conversion of the second argument of issubdtype from `float` to `np.floating` is deprecated. In future, it will be treated as `np.float64 == np.dtype(float).type`.\n",
      "  from ._conv import register_converters as _register_converters\n",
      "Using TensorFlow backend.\n",
      "D:\\Miniconda3\\lib\\site-packages\\sklearn\\cross_validation.py:41: DeprecationWarning: This module was deprecated in version 0.18 in favor of the model_selection module into which all the refactored classes and functions are moved. Also note that the interface of the new CV iterators are different from that of this module. This module will be removed in 0.20.\n",
      "  \"This module will be removed in 0.20.\", DeprecationWarning)\n"
     ]
    }
   ],
   "source": [
    "import sys\n",
    "import numpy as np\n",
    "import gensim\n",
    "import random\n",
    "from keras.datasets import imdb\n",
    "from gensim.models.doc2vec import Doc2Vec, TaggedDocument\n",
    "from sklearn.cross_validation import train_test_split"
   ]
  },
  {
   "cell_type": "code",
   "execution_count": 2,
   "metadata": {
    "collapsed": true
   },
   "outputs": [],
   "source": [
    "def compact_files(filedir_list, save_name):\n",
    "    import os\n",
    "    lines = []\n",
    "    for filedir in filedir_list:\n",
    "        for filename in os.listdir(filedir):\n",
    "            readfile = open(os.path.join(filedir, filename), encoding=\"utf-8\")\n",
    "            lines.append(readfile.read())\n",
    "            readfile.close()\n",
    "    savefile = open(save_name, \"w\", encoding=\"utf-8\")\n",
    "    savefile.write(\"\\n\".join(lines))\n",
    "    savefile.close()\n",
    "    return len(lines)\n",
    "\n",
    "def preprocess_imdbfiles():\n",
    "    lines1 = compact_files([\"E:/kaggle/avito/imdb_testset/aclImdb_v1/aclImdb/train/neg/\"], \"E:/kaggle/avito/imdb_testset/aclImdb_v1/train_neg.txt\")\n",
    "    lines2 = compact_files([\"E:/kaggle/avito/imdb_testset/aclImdb_v1/aclImdb/test/neg/\"], \"E:/kaggle/avito/imdb_testset/aclImdb_v1/test_neg.txt\")\n",
    "    lines3 = compact_files([\"E:/kaggle/avito/imdb_testset/aclImdb_v1/aclImdb/train/pos/\"], \"E:/kaggle/avito/imdb_testset/aclImdb_v1/train_pos.txt\")\n",
    "    lines4 = compact_files([\"E:/kaggle/avito/imdb_testset/aclImdb_v1/aclImdb/test/pos/\"], \"E:/kaggle/avito/imdb_testset/aclImdb_v1/test_pos.txt\")\n",
    "    lines5 = compact_files([\"E:/kaggle/avito/imdb_testset/aclImdb_v1/aclImdb/train/unsup/\"], \"E:/kaggle/avito/imdb_testset/aclImdb_v1/train_unsup.txt\")\n",
    "    lines6 = compact_files([\n",
    "        \"E:/kaggle/avito/imdb_testset/aclImdb_v1/aclImdb/train/neg/\",\n",
    "        \"E:/kaggle/avito/imdb_testset/aclImdb_v1/aclImdb/test/neg/\"\n",
    "    ], \"E:/kaggle/avito/imdb_testset/aclImdb_v1/train_test_neg.txt\")\n",
    "    lines7 = compact_files([\n",
    "        \"E:/kaggle/avito/imdb_testset/aclImdb_v1/aclImdb/train/pos/\",\n",
    "        \"E:/kaggle/avito/imdb_testset/aclImdb_v1/aclImdb/test/pos/\"\n",
    "    ], \"E:/kaggle/avito/imdb_testset/aclImdb_v1/train_test_pos.txt\")\n",
    "    return (lines1, lines2, lines3, lines4, lines5, lines6, lines7)"
   ]
  },
  {
   "cell_type": "code",
   "execution_count": 3,
   "metadata": {
    "collapsed": true
   },
   "outputs": [],
   "source": [
    "def check_acc_on_model(classifier, X, y, split_ratio = 0.3):\n",
    "    from sklearn.model_selection import train_test_split\n",
    "    train_x, valid_x, train_y, valid_y = train_test_split(X, y, test_size=split_ratio, random_state=0, stratify=y)\n",
    "    classifier.fit(train_x, train_y)\n",
    "    proba_y = classifier.predict_proba(valid_x)\n",
    "    print(\"acc: \", sum(np.argmax(proba_y, axis=1) == valid_y) / proba_y.shape[0])\n",
    "\n",
    "def check_acc_on_rf(X, y, split_ratio = 0.3):\n",
    "    from sklearn.ensemble import RandomForestClassifier\n",
    "    classifier = RandomForestClassifier(**{'n_jobs': -1,'n_estimators': 500,'max_depth': None,'max_features' : 'sqrt','random_state': 0})\n",
    "    check_acc_on_model(classifier, X, y, split_ratio)\n",
    "    return classifier\n",
    "    \n",
    "def check_acc_on_logit(X, y, split_ratio = 0.3):\n",
    "    from sklearn.linear_model import LogisticRegression\n",
    "    classifier = LogisticRegression()\n",
    "    check_acc_on_model(classifier, X, y, split_ratio)\n",
    "    return classifier\n",
    "    \n",
    "def check_acc_on_mlp(X, y, split_ratio = 0.3):\n",
    "    import sklearn.neural_network\n",
    "    classifier = sklearn.neural_network.MLPClassifier(hidden_layer_sizes=[1024], learning_rate=\"adaptive\")\n",
    "    check_acc_on_model(classifier, X, y, split_ratio)\n",
    "    return classifier\n",
    "\n",
    "def check_acc_on_sgd(X, y, split_ratio = 0.3):\n",
    "    from sklearn.linear_model import SGDClassifier\n",
    "    classifier = SGDClassifier(loss='log', penalty='l1', max_iter=10)\n",
    "    check_acc_on_model(classifier, X, y, split_ratio)\n",
    "    return classifier"
   ]
  },
  {
   "cell_type": "code",
   "execution_count": 4,
   "metadata": {
    "collapsed": true
   },
   "outputs": [],
   "source": [
    "def get_dataset():\n",
    "    (X_train, y_train), (X_test, y_test) = imdb.load_data(path=\"E:/paper/stackingmodel/imdb/imdb.npz\", num_words=10000)\n",
    "    def labelizeReviews(reviews, label_type):\n",
    "        labelized = []\n",
    "        for i, v in enumerate(reviews):\n",
    "            label = '%s_%s' % (label_type, i)\n",
    "            labelized.append(TaggedDocument(list(map(str, v)), [label]))\n",
    "        return labelized\n",
    "    X_train = labelizeReviews(X_train, 'TRAIN')\n",
    "    X_test = labelizeReviews(X_test, 'TEST')\n",
    "    return X_train, X_test, y_train, y_test\n",
    "\n",
    "def get_dataset_fromtext(pos_file, neg_file, unsup_file):\n",
    "    #读取数据\n",
    "    with open(pos_file, 'r', encoding=\"utf-8\") as infile:\n",
    "        pos_reviews = infile.readlines()\n",
    "    with open(neg_file,'r', encoding=\"utf-8\") as infile:\n",
    "        neg_reviews = infile.readlines()\n",
    "    with open(unsup_file,'r', encoding=\"utf-8\") as infile:\n",
    "        unsup_reviews = infile.readlines()\n",
    "\n",
    "    #使用1表示正面情感，0为负面\n",
    "    y = np.concatenate((np.ones(len(pos_reviews)), np.zeros(len(neg_reviews))))\n",
    "    #将数据分割为训练与测试集\n",
    "    x_train, x_test, y_train, y_test = train_test_split(np.concatenate((pos_reviews, neg_reviews)), y, test_size=0.5)\n",
    "\n",
    "    #对英文做简单的数据清洗预处理，中文根据需要进行修改\n",
    "    def cleanText(corpus):\n",
    "        punctuation = \"\"\".,?!:;(){}[]\"\"\"\n",
    "        corpus = [z.lower().replace('\\n','') for z in corpus]\n",
    "        corpus = [z.replace('<br />', ' ') for z in corpus]\n",
    "\n",
    "        #treat punctuation as individual words\n",
    "        for c in punctuation:\n",
    "            corpus = [z.replace(c, ' %s '%c) for z in corpus]\n",
    "        corpus = [z.split() for z in corpus]\n",
    "        return corpus\n",
    "\n",
    "    X_train = cleanText(x_train)\n",
    "    X_test = cleanText(x_test)\n",
    "    unsup_reviews = cleanText(unsup_reviews)\n",
    "    \n",
    "    def labelizeReviews(reviews, label_type):\n",
    "        labelized = []\n",
    "        for i, v in enumerate(reviews):\n",
    "            label = '%s_%s' % (label_type, i)\n",
    "            labelized.append(TaggedDocument(v, [label]))\n",
    "        return labelized\n",
    "    \n",
    "    X_train = labelizeReviews(X_train, 'TRAIN')\n",
    "    X_test = labelizeReviews(X_test, 'TEST')\n",
    "    X_unlabeled = labelizeReviews(unsup_reviews, 'UNLAB')\n",
    "    \n",
    "    return X_train, X_test, X_unlabeled, y_train, y_test"
   ]
  },
  {
   "cell_type": "code",
   "execution_count": 5,
   "metadata": {
    "collapsed": true
   },
   "outputs": [],
   "source": [
    "#对数据进行训练\n",
    "def train(x_train, x_test = None, x_unlabeled = None, size = 100, epoch_num = 2, dm_concat = 0, window = 10):\n",
    "    #实例DM和DBOW模型\n",
    "    model_dm = gensim.models.Doc2Vec(min_count=1, window=window, dm_concat=dm_concat, vector_size=size, sample=1e-4, negative=5, dm=1, workers=10)\n",
    "#     model_dbow = gensim.models.Doc2Vec(min_count=1, window=window, dm_concat=dm_concat, vector_size=size, sample=1e-4, negative=5, dm=0, workers=10)\n",
    "    model_dbow = None\n",
    "\n",
    "    #使用所有的数据建立词典\n",
    "    if x_unlabeled is None:\n",
    "        if x_test is None:\n",
    "            X_total_train = x_train\n",
    "        else:\n",
    "            X_total_train = [TaggedDocument(x[0], x[1]) for x in np.vstack([x_train, x_test])]\n",
    "    else:\n",
    "        X_total_train = [TaggedDocument(x[0], x[1]) for x in np.vstack([x_train, x_test, x_unlabeled])]\n",
    "    model_dm.build_vocab(X_total_train)\n",
    "#     model_dbow.build_vocab(X_total_train)\n",
    "    \n",
    "    for i in range(epoch_num):\n",
    "        print(\"epoch %d, %d samples\" % (i, len(X_total_train)))\n",
    "        random.shuffle(X_total_train)\n",
    "        model_dm.train(X_total_train, total_examples=model_dm.corpus_count , epochs=model_dm.epochs )\n",
    "#         model_dbow.train(X_total_train, total_examples=model_dbow.corpus_count , epochs=model_dbow.epochs )\n",
    "\n",
    "    return model_dm, model_dbow"
   ]
  },
  {
   "cell_type": "code",
   "execution_count": 6,
   "metadata": {
    "collapsed": true
   },
   "outputs": [],
   "source": [
    "#将训练完成的数据转换为vectors\n",
    "def get_vectors(model_dm, model_dbow, x_train, x_test = None):\n",
    "    #读取向量\n",
    "    def getVecs(model, corpus):\n",
    "        if corpus is None:\n",
    "            return None\n",
    "        vecs = [model.docvecs[z.tags[0]] for z in corpus]\n",
    "        return vecs\n",
    "    #获取训练数据集的文档向量\n",
    "    train_vecs_dm = getVecs(model_dm, x_train)\n",
    "#     train_vecs_dbow = getVecs(model_dbow, x_train)\n",
    "#     train_vecs = np.hstack((train_vecs_dm, train_vecs_dbow))\n",
    "    train_vecs = train_vecs_dm\n",
    "    #获取测试数据集的文档向量\n",
    "    test_vecs_dm = getVecs(model_dm, x_test)\n",
    "#     test_vecs_dbow = getVecs(model_dbow, x_test)\n",
    "#     test_vecs = np.hstack((test_vecs_dm, test_vecs_dbow))\n",
    "    test_vecs = test_vecs_dm\n",
    "\n",
    "    return train_vecs,test_vecs"
   ]
  },
  {
   "cell_type": "code",
   "execution_count": 7,
   "metadata": {
    "collapsed": true
   },
   "outputs": [],
   "source": [
    "X_sent_train, X_sent_test, y_train, y_test = get_dataset(); X_sent_unlabeled = None"
   ]
  },
  {
   "cell_type": "code",
   "execution_count": 8,
   "metadata": {
    "collapsed": true
   },
   "outputs": [],
   "source": [
    "# X_sent_train, X_sent_test, X_sent_unlabeled, y_train, y_test = get_dataset_fromtext(\n",
    "#     \"E:/kaggle/avito/imdb_testset/aclImdb_v1/train_test_pos.txt\", \n",
    "#     \"E:/kaggle/avito/imdb_testset/aclImdb_v1/train_test_neg.txt\",\n",
    "#     \"E:/kaggle/avito/imdb_testset/aclImdb_v1/train_unsup.txt\")"
   ]
  },
  {
   "cell_type": "code",
   "execution_count": 9,
   "metadata": {
    "scrolled": false
   },
   "outputs": [
    {
     "name": "stdout",
     "output_type": "stream",
     "text": [
      "epoch 0, 50000 samples\n",
      "epoch 1, 50000 samples\n"
     ]
    }
   ],
   "source": [
    "model_dm, model_dbow = train(X_sent_train, X_sent_test, X_sent_unlabeled, size=100, dm_concat=1, window=5)"
   ]
  },
  {
   "cell_type": "code",
   "execution_count": 8,
   "metadata": {
    "collapsed": true
   },
   "outputs": [],
   "source": [
    "model_dm.save(\"E:/kaggle/avito/imdb_testset/gensim_models/gensim_model_dm\")\n",
    "# model_dbow.save(\"E:/kaggle/avito/imdb_testset/gensim_models/gensim_model_dbow\")"
   ]
  },
  {
   "cell_type": "code",
   "execution_count": 10,
   "metadata": {
    "collapsed": true
   },
   "outputs": [],
   "source": [
    "train_vecs, test_vecs = get_vectors(model_dm, model_dbow, X_sent_train, X_sent_test)"
   ]
  },
  {
   "cell_type": "code",
   "execution_count": 14,
   "metadata": {},
   "outputs": [
    {
     "data": {
      "text/plain": [
       "array([-0.0105537 ,  0.00604655, -0.00510079, -0.01158452,  0.02608063,\n",
       "        0.00550977,  0.00291746,  0.00110824, -0.00291903,  0.00813917,\n",
       "       -0.02025711, -0.00986598, -0.00649582, -0.00675166,  0.01451115,\n",
       "        0.0242468 , -0.0016916 , -0.00130757,  0.00611925, -0.02668009],\n",
       "      dtype=float32)"
      ]
     },
     "execution_count": 14,
     "metadata": {},
     "output_type": "execute_result"
    }
   ],
   "source": [
    "test_vecs[0][:20]"
   ]
  },
  {
   "cell_type": "code",
   "execution_count": 15,
   "metadata": {},
   "outputs": [
    {
     "name": "stdout",
     "output_type": "stream",
     "text": [
      "acc:  0.7269333333333333\n"
     ]
    }
   ],
   "source": [
    "classifier = check_acc_on_logit(train_vecs, y_train)"
   ]
  },
  {
   "cell_type": "code",
   "execution_count": 16,
   "metadata": {
    "scrolled": true
   },
   "outputs": [
    {
     "data": {
      "text/plain": [
       "0.72784"
      ]
     },
     "execution_count": 16,
     "metadata": {},
     "output_type": "execute_result"
    }
   ],
   "source": [
    "classifier.score(test_vecs, y_test)"
   ]
  },
  {
   "cell_type": "code",
   "execution_count": 14,
   "metadata": {
    "collapsed": true
   },
   "outputs": [],
   "source": [
    "def plot_vectors(vectors, labels):\n",
    "    import matplotlib.pyplot as plt\n",
    "    %matplotlib inline\n",
    "    from sklearn.manifold import TSNE\n",
    "    tsne = TSNE(perplexity=30, n_components=2, init=\"pca\", n_iter=5000)\n",
    "    low_dim_embs = tsne.fit_transform(vectors)\n",
    "    plt.figure(figsize=(12, 12))\n",
    "    plt.scatter(low_dim_embs[:, 0], low_dim_embs[:, 1], c=np.array([\"b\", \"g\"])[labels])\n",
    "    plt.show()"
   ]
  },
  {
   "cell_type": "code",
   "execution_count": 15,
   "metadata": {
    "scrolled": true
   },
   "outputs": [
    {
     "data": {
      "image/png": "[encoded data removed]",
      "text/plain": [
       "<matplotlib.figure.Figure at 0x1de36e36208>"
      ]
     },
     "metadata": {},
     "output_type": "display_data"
    }
   ],
   "source": [
    "plot_vectors(train_vecs[:100], y_train)"
   ]
  },
  {
   "cell_type": "code",
   "execution_count": null,
   "metadata": {
    "collapsed": true
   },
   "outputs": [],
   "source": []
  }
 ],
 "metadata": {
  "kernelspec": {
   "display_name": "Python 3",
   "language": "python",
   "name": "python3"
  },
  "language_info": {
   "codemirror_mode": {
    "name": "ipython",
    "version": 3
   },
   "file_extension": ".py",
   "mimetype": "text/x-python",
   "name": "python",
   "nbconvert_exporter": "python",
   "pygments_lexer": "ipython3",
   "version": "3.6.3"
  }
 },
 "nbformat": 4,
 "nbformat_minor": 2
}
