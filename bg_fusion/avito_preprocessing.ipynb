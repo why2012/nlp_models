{
 "cells": [
  {
   "cell_type": "code",
   "execution_count": 1,
   "metadata": {
    "collapsed": true
   },
   "outputs": [],
   "source": [
    "import pandas as pd\n",
    "import numpy as np\n",
    "import nltk\n",
    "import pickle\n",
    "from collections import defaultdict"
   ]
  },
  {
   "cell_type": "code",
   "execution_count": 2,
   "metadata": {},
   "outputs": [],
   "source": [
    "def count_lines(filepath_list):\n",
    "    count = 0\n",
    "    for filepath in filepath_list:\n",
    "        f = open(filepath, \"r\", encoding=\"utf-8\")\n",
    "        while 1:\n",
    "            buffer = f.read(1000000)\n",
    "            if not buffer:\n",
    "                break\n",
    "            count += buffer.count(\"\\n\")\n",
    "        f.close()\n",
    "    return count"
   ]
  },
  {
   "cell_type": "code",
   "execution_count": 3,
   "metadata": {
    "collapsed": true
   },
   "outputs": [],
   "source": [
    "class WordCounter(object):\n",
    "    def __init__(self):\n",
    "        self.tok = nltk.tokenize.toktok.ToktokTokenizer()\n",
    "        self.words_list = []\n",
    "        \n",
    "    def __check_filepath_list(self, filepath_list):\n",
    "        if filepath_list is None or not isinstance(filepath_list, list) or len(filepath_list) == 0:\n",
    "            raise Exception(\"filepath list is empty or not a list\")\n",
    "    \n",
    "    def fit(self, filepath_list, target_col):\n",
    "        self.__check_filepath_list(filepath_list)\n",
    "        self.target_col = target_col\n",
    "        counter = defaultdict(lambda: 0)\n",
    "        for filepath in filepath_list:\n",
    "            data_df_iter = pd.read_csv(filepath, iterator=True, usecols=[self.target_col], chunksize=100000, encoding=\"utf-8\")\n",
    "            for chunk in data_df_iter:\n",
    "                for content in chunk[target_col]:\n",
    "                    words = [w.lower() for w in self.tok.tokenize(content)]\n",
    "                    for word in words:\n",
    "                        counter[word] += 1\n",
    "        self.words_list = list(counter.items())\n",
    "        self.words_list.sort(key=lambda x: -x[1])\n",
    "    \n",
    "    def most_common(self, vocab_size):\n",
    "        return self.words_list[:vocab_size]\n",
    "    \n",
    "    def transform(self, filepath_list, max_words = None):\n",
    "        self.__check_filepath_list(filepath_list)\n",
    "        counts = [[\"unk\", -1]]\n",
    "        if max_words is None:\n",
    "            max_words = len(self.words_list) + 1\n",
    "        counts.extend(self.most_common(max_words - 1))\n",
    "        dictionary = {}\n",
    "        documents_indices = []\n",
    "        for word, _ in counts:\n",
    "            dictionary[word] = len(dictionary)\n",
    "        for filepath in filepath_list:\n",
    "            data_df_iter = pd.read_csv(filepath, iterator=True, usecols=[self.target_col], chunksize=100000, encoding=\"utf-8\")\n",
    "            for chunk in data_df_iter:\n",
    "                for content in chunk[self.target_col]:\n",
    "                    words = [w.lower() for w in self.tok.tokenize(content)]\n",
    "                    word_indices = []\n",
    "                    for word in words:\n",
    "                        if word in dictionary:\n",
    "                            index = dictionary[word]\n",
    "                        else:\n",
    "                            index = 0\n",
    "                        word_indices.append(index)\n",
    "                    documents_indices.append(word_indices)\n",
    "        return documents_indices"
   ]
  },
  {
   "cell_type": "code",
   "execution_count": null,
   "metadata": {},
   "outputs": [],
   "source": [
    "wordCounter = WordCounter()\n",
    "wordCounter.fit([\"E:/kaggle/avito/preprocessing/train_descriptions.data\", \"E:/kaggle/avito/preprocessing/train_active_descriptions.data\",\n",
    "                \"E:/kaggle/avito/preprocessing/test_descriptions.data\", \"E:/kaggle/avito/preprocessing/test_active_descriptions.data\"], \n",
    "                \"description\")"
   ]
  },
  {
   "cell_type": "code",
   "execution_count": 53,
   "metadata": {},
   "outputs": [],
   "source": [
    "pickle.dump(wordCounter.words_list, open(\"E:/kaggle/avito/preprocessing/words_counter_list\", \"wb\"))"
   ]
  },
  {
   "cell_type": "code",
   "execution_count": 36,
   "metadata": {},
   "outputs": [],
   "source": [
    "documents_indices = wordCounter.transform([\"E:/kaggle/avito/preprocessing/train_descriptions.data\"], max_words=10000)\n",
    "pickle.dump(documents_indices, open(\"E:/kaggle/avito/preprocessing/indices_top10000_train_descriptions\", \"wb\"))\n",
    "\n",
    "documents_indices = wordCounter.transform([\"E:/kaggle/avito/preprocessing/train_active_descriptions.data\"], max_words=10000)\n",
    "pickle.dump(documents_indices, open(\"E:/kaggle/avito/preprocessing/indices_top10000_train_active_descriptions\", \"wb\"))\n",
    "\n",
    "documents_indices = wordCounter.transform([\"E:/kaggle/avito/preprocessing/test_descriptions.data\"], max_words=10000)\n",
    "pickle.dump(documents_indices, open(\"E:/kaggle/avito/preprocessing/indices_top10000_test_descriptions\", \"wb\"))\n",
    "\n",
    "documents_indices = wordCounter.transform([\"E:/kaggle/avito/preprocessing/test_active_descriptions.data\"], max_words=10000)\n",
    "pickle.dump(documents_indices, open(\"E:/kaggle/avito/preprocessing/indices_top10000_test_active_descriptions\", \"wb\"))"
   ]
  },
  {
   "cell_type": "code",
   "execution_count": 4,
   "metadata": {
    "collapsed": true
   },
   "outputs": [],
   "source": [
    "wordCounter = WordCounter()\n",
    "wordCounter.words_list = pickle.load(open(\"E:/kaggle/avito/preprocessing/words_counter_list\", \"rb\"))\n",
    "wordCounter.target_col = \"description\""
   ]
  },
  {
   "cell_type": "code",
   "execution_count": 15,
   "metadata": {},
   "outputs": [],
   "source": [
    "words_list = list(map(lambda x: x[1], wordCounter.words_list))"
   ]
  },
  {
   "cell_type": "code",
   "execution_count": 34,
   "metadata": {},
   "outputs": [],
   "source": [
    "words_list_histogram, hist_edges = np.histogram(words_list, 50000)"
   ]
  },
  {
   "cell_type": "code",
   "execution_count": 35,
   "metadata": {
    "scrolled": true
   },
   "outputs": [
    {
     "data": {
      "text/plain": [
       "[(1669.65718, 10197050, 0.996228380108552),\n",
       " (3338.31436, 15726, 0.997764774213277),\n",
       " (5006.97154, 6206, 0.9983710861688871),\n",
       " (6675.62872, 3454, 0.9987085340410555),\n",
       " (8344.285899999999, 2224, 0.998925813736395),\n",
       " (10012.94308, 1592, 0.9990813484823394),\n",
       " (11681.60026, 1184, 0.9991970225647504),\n",
       " (13350.25744, 903, 0.9992852435921297),\n",
       " (15018.91462, 724, 0.9993559767303607),\n",
       " (16687.571799999998, 640, 0.9994185032613936),\n",
       " (18356.22898, 465, 0.9994639326940973),\n",
       " (20024.88616, 415, 0.9995044772415639),\n",
       " (21693.54334, 370, 0.9995406253923174),\n",
       " (23362.20052, 299, 0.9995698370060343),\n",
       " (25030.8577, 259, 0.9995951407115617),\n",
       " (26699.51488, 257, 0.9996202490216796),\n",
       " (28368.172059999997, 195, 0.9996393000741037),\n",
       " (30036.82924, 189, 0.9996577649402993),\n",
       " (31705.486419999997, 169, 0.9996742758524002),\n",
       " (33374.143599999996, 169, 0.9996907867645012),\n",
       " (35042.80078, 145, 0.9997049529316883),\n",
       " (36711.45796, 136, 0.9997182398195328),\n",
       " (38380.11514, 109, 0.9997288888693493),\n",
       " (40048.77232, 129, 0.9997414918732607),\n",
       " (41717.4295, 97, 0.9997509685506204),\n",
       " (43386.08668, 86, 0.9997593705532279),\n",
       " (45054.743859999995, 91, 0.9997682610443591),\n",
       " (46723.40104, 84, 0.9997764676515573),\n",
       " (48392.05822, 80, 0.9997842834679364),\n",
       " (50060.7154, 93, 0.999793369354477),\n",
       " (51729.372579999996, 79, 0.9998010874731514),\n",
       " (53398.02976, 77, 0.9998086101964163),\n",
       " (55066.68694, 67, 0.9998151559426338),\n",
       " (56735.344119999994, 52, 0.9998202362232803),\n",
       " (58404.001299999996, 57, 0.9998258049924504),\n",
       " (60072.65848, 57, 0.9998313737616206),\n",
       " (61741.31566, 31, 0.9998344023904674),\n",
       " (63409.972839999995, 43, 0.9998386033917712),\n",
       " (65078.63002, 47, 0.999843195183894),\n",
       " (66747.28719999999, 41, 0.9998472007897883),\n",
       " (68415.94438, 44, 0.9998514994887968),\n",
       " (70084.60156, 51, 0.9998564820717385),\n",
       " (71753.25873999999, 27, 0.9998591199097664),\n",
       " (73421.91592, 36, 0.999862637027137),\n",
       " (75090.5731, 25, 0.9998650794697554),\n",
       " (76759.23028, 36, 0.9998685965871261),\n",
       " (78427.88746, 32, 0.9998717229136778),\n",
       " (80096.54464, 21, 0.9998737745654772),\n",
       " (81765.20182, 22, 0.9998759239149815),\n",
       " (83433.859, 28, 0.9998786594507142),\n",
       " (85102.51617999999, 25, 0.9998811018933327),\n",
       " (86771.17336, 25, 0.9998835443359512),\n",
       " (88439.83054, 29, 0.9998863775693886),\n",
       " (90108.48771999999, 15, 0.9998878430349597),\n",
       " (91777.1449, 28, 0.9998905785706923),\n",
       " (93445.80208, 14, 0.9998919463385587),\n",
       " (95114.45925999999, 20, 0.9998939002926535),\n",
       " (96783.11644, 17, 0.999895561153634),\n",
       " (98451.77361999999, 21, 0.9998976128054335),\n",
       " (100120.4308, 25, 0.999900055248052),\n",
       " (101789.08798, 20, 0.9999020092021468),\n",
       " (103457.74515999999, 19, 0.9999038654585368),\n",
       " (105126.40234, 20, 0.9999058194126317),\n",
       " (106795.05952, 21, 0.9999078710644311),\n",
       " (108463.71669999999, 14, 0.9999092388322975),\n",
       " (110132.37388, 13, 0.9999105089024591),\n",
       " (111801.03106, 18, 0.9999122674611444),\n",
       " (113469.68823999999, 14, 0.9999136352290108),\n",
       " (115138.34542, 11, 0.9999147099037629),\n",
       " (116807.00259999999, 10, 0.9999156868808102),\n",
       " (118475.65978, 21, 0.9999177385326098),\n",
       " (120144.31696, 11, 0.9999188132073619),\n",
       " (121812.97413999999, 15, 0.999920278672933),\n",
       " (123481.63132, 12, 0.9999214510453899),\n",
       " (125150.2885, 9, 0.9999223303247325),\n",
       " (126818.94567999999, 19, 0.9999241865811226),\n",
       " (128487.60286, 9, 0.9999250658604653),\n",
       " (130156.26004, 9, 0.9999259451398078),\n",
       " (131824.91722, 7, 0.9999266290237411),\n",
       " (133493.57439999998, 11, 0.9999277036984932),\n",
       " (135162.23158, 9, 0.9999285829778358),\n",
       " (136830.88876, 11, 0.9999296576525879),\n",
       " (138499.54593999998, 7, 0.9999303415365212),\n",
       " (140168.20312, 7, 0.9999310254204543),\n",
       " (141836.8603, 7, 0.9999317093043875),\n",
       " (143505.51747999998, 10, 0.9999326862814348),\n",
       " (145174.17466, 5, 0.9999331747699586),\n",
       " (146842.83184, 8, 0.9999339563515964),\n",
       " (148511.48901999998, 10, 0.9999349333286438),\n",
       " (150180.1462, 5, 0.9999354218171675),\n",
       " (151848.80338, 9, 0.9999363010965102),\n",
       " (153517.46056, 7, 0.9999369849804434),\n",
       " (155186.11774, 8, 0.9999377665620812),\n",
       " (156854.77492, 7, 0.9999384504460145),\n",
       " (158523.4321, 8, 0.9999392320276523),\n",
       " (160192.08928, 8, 0.9999400136092903),\n",
       " (161860.74646, 11, 0.9999410882840424),\n",
       " (163529.40364, 11, 0.9999421629587946),\n",
       " (165198.06081999998, 3, 0.9999424560519088),\n",
       " (166866.718, 9, 0.9999433353312513)]"
      ]
     },
     "execution_count": 35,
     "metadata": {},
     "output_type": "execute_result"
    }
   ],
   "source": [
    "list(zip(hist_edges[1:], words_list_histogram, np.cumsum(words_list_histogram) / sum(words_list_histogram)))[:100]"
   ]
  },
  {
   "cell_type": "code",
   "execution_count": 12,
   "metadata": {
    "collapsed": true
   },
   "outputs": [],
   "source": [
    "avito_train_df = pd.read_csv(\"E:/kaggle/avito/train.csv/train.csv\", encoding=\"utf-8\", usecols=[\"item_id\", \"description\"])"
   ]
  },
  {
   "cell_type": "code",
   "execution_count": 15,
   "metadata": {
    "collapsed": true
   },
   "outputs": [],
   "source": [
    "avito_train_df[[\"item_id\", \"description\"]].to_csv(\"E:/kaggle/avito/preprocessing/train_descriptions.data\", index=False, encoding=\"utf-8\")"
   ]
  },
  {
   "cell_type": "code",
   "execution_count": 2,
   "metadata": {
    "collapsed": true
   },
   "outputs": [],
   "source": [
    "avito_train_active_df = pd.read_csv(\"E:/kaggle/avito/train_active.csv/train_active.csv\", encoding=\"utf-8\", usecols=[\"item_id\", \"description\"])"
   ]
  },
  {
   "cell_type": "code",
   "execution_count": 5,
   "metadata": {
    "collapsed": true
   },
   "outputs": [],
   "source": [
    "avito_train_active_df[[\"item_id\", \"description\"]].to_csv(\"E:/kaggle/avito/preprocessing/train_active_descriptions.data\", index=False, encoding=\"utf-8\")"
   ]
  },
  {
   "cell_type": "code",
   "execution_count": 3,
   "metadata": {
    "collapsed": true
   },
   "outputs": [],
   "source": [
    "avito_test_df = pd.read_csv(\"E:/kaggle/avito/test.csv/test.csv\", encoding=\"utf-8\", usecols=[\"item_id\", \"description\"])"
   ]
  },
  {
   "cell_type": "code",
   "execution_count": 5,
   "metadata": {
    "collapsed": true
   },
   "outputs": [],
   "source": [
    "avito_test_df[[\"item_id\", \"description\"]].to_csv(\"E:/kaggle/avito/preprocessing/test_descriptions.data\", index=False, encoding=\"utf-8\")"
   ]
  },
  {
   "cell_type": "code",
   "execution_count": 6,
   "metadata": {
    "collapsed": true
   },
   "outputs": [],
   "source": [
    "avito_test_active_df = pd.read_csv(\"E:/kaggle/avito/test_active.csv/test_active.csv\", encoding=\"utf-8\", usecols=[\"item_id\", \"description\"])"
   ]
  },
  {
   "cell_type": "code",
   "execution_count": 8,
   "metadata": {
    "collapsed": true
   },
   "outputs": [],
   "source": [
    "avito_test_active_df[[\"item_id\", \"description\"]].to_csv(\"E:/kaggle/avito/preprocessing/test_active_descriptions.data\", index=False, encoding=\"utf-8\")"
   ]
  },
  {
   "cell_type": "code",
   "execution_count": 9,
   "metadata": {},
   "outputs": [],
   "source": [
    "total_lines = count_lines([\"E:/kaggle/avito/preprocessing/train_descriptions.data\", \"E:/kaggle/avito/preprocessing/train_active_descriptions.data\",\n",
    "                          \"E:/kaggle/avito/preprocessing/test_descriptions.data\", \"E:/kaggle/avito/preprocessing/test_active_descriptions.data\"])"
   ]
  },
  {
   "cell_type": "code",
   "execution_count": 10,
   "metadata": {},
   "outputs": [
    {
     "data": {
      "text/plain": [
       "99167597"
      ]
     },
     "execution_count": 10,
     "metadata": {},
     "output_type": "execute_result"
    }
   ],
   "source": [
    "total_lines"
   ]
  }
 ],
 "metadata": {
  "kernelspec": {
   "display_name": "Python 3",
   "language": "python",
   "name": "python3"
  },
  "language_info": {
   "codemirror_mode": {
    "name": "ipython",
    "version": 3
   },
   "file_extension": ".py",
   "mimetype": "text/x-python",
   "name": "python",
   "nbconvert_exporter": "python",
   "pygments_lexer": "ipython3",
   "version": "3.6.3"
  }
 },
 "nbformat": 4,
 "nbformat_minor": 2
}
