{
 "cells": [
  {
   "cell_type": "code",
   "execution_count": 1,
   "metadata": {},
   "outputs": [
    {
     "name": "stderr",
     "output_type": "stream",
     "text": [
      "D:\\Miniconda3\\lib\\site-packages\\gensim\\utils.py:1197: UserWarning: detected Windows; aliasing chunkize to chunkize_serial\n",
      "  warnings.warn(\"detected Windows; aliasing chunkize to chunkize_serial\")\n"
     ]
    }
   ],
   "source": [
    "from gensim import utils\n",
    "from gensim.models.doc2vec import TaggedDocument\n",
    "from gensim.models import Doc2Vec\n",
    "import numpy as np\n",
    "import sys\n",
    "import random\n",
    "from sklearn.linear_model import LogisticRegression"
   ]
  },
  {
   "cell_type": "code",
   "execution_count": 2,
   "metadata": {
    "collapsed": true
   },
   "outputs": [],
   "source": [
    "## the code for the doc2vec\n",
    "class TaggedLineSentence(object):\n",
    "    \"\"\"\n",
    "    sources: [file1 name: tag1 name, file2 name: tag2 name ...]\n",
    "    privade two functions:\n",
    "        to_array: transfer each line to a object of TaggedDocument and then add to a list\n",
    "        perm: permutations\n",
    "    \"\"\"\n",
    "    def __init__(self, sources):\n",
    "        self.sources = sources\n",
    "\n",
    "    def to_array(self):\n",
    "        self.sentences = []\n",
    "        for source, prefix in self.sources.items():\n",
    "            with utils.smart_open(source) as fin:\n",
    "                for item_no, line in enumerate(fin):\n",
    "                    # TaggedDocument([word1, word2 ...], [tagx])\n",
    "                    self.sentences.append(TaggedDocument(utils.to_unicode(line).split(), \n",
    "                                       [prefix + '_%s' % item_no]))\n",
    "        return self.sentences\n",
    "\n",
    "    def perm(self):\n",
    "        shuffled = list(self.sentences)\n",
    "        random.shuffle(shuffled)    # Note that this line does not return anything.\n",
    "        return shuffled"
   ]
  },
  {
   "cell_type": "code",
   "execution_count": 3,
   "metadata": {
    "collapsed": true
   },
   "outputs": [],
   "source": [
    "sources = {'E:/kaggle/avito/imdb_testset/aclImdb_v1/test_neg.txt': 'TEST_NEG', 'E:/kaggle/avito/imdb_testset/aclImdb_v1/test_pos.txt': 'TEST_POS', \n",
    "           'E:/kaggle/avito/imdb_testset/aclImdb_v1/train_neg.txt': 'TRAIN_NEG','E:/kaggle/avito/imdb_testset/aclImdb_v1/train_pos.txt': 'TRAIN_POS', \n",
    "           'E:/kaggle/avito/imdb_testset/aclImdb_v1/train_unsup.txt': 'TRAIN_UNS'}"
   ]
  },
  {
   "cell_type": "code",
   "execution_count": 4,
   "metadata": {
    "collapsed": true
   },
   "outputs": [],
   "source": [
    "sentences = TaggedLineSentence(sources)"
   ]
  },
  {
   "cell_type": "code",
   "execution_count": 6,
   "metadata": {},
   "outputs": [],
   "source": [
    "model = Doc2Vec(min_count=1, window=10, vector_size=100,sample=1e-4, negative=5, dm=1, workers=7)"
   ]
  },
  {
   "cell_type": "code",
   "execution_count": 7,
   "metadata": {
    "collapsed": true
   },
   "outputs": [],
   "source": [
    "model.build_vocab(sentences.to_array())"
   ]
  },
  {
   "cell_type": "code",
   "execution_count": 9,
   "metadata": {},
   "outputs": [
    {
     "name": "stdout",
     "output_type": "stream",
     "text": [
      "epoch 0\n"
     ]
    },
    {
     "name": "stderr",
     "output_type": "stream",
     "text": [
      "D:\\Miniconda3\\lib\\site-packages\\ipykernel_launcher.py:3: DeprecationWarning: Call to deprecated `iter` (Attribute will be removed in 4.0.0, use self.epochs instead).\n",
      "  This is separate from the ipykernel package so we can avoid doing imports until\n"
     ]
    },
    {
     "name": "stdout",
     "output_type": "stream",
     "text": [
      "epoch 1\n"
     ]
    }
   ],
   "source": [
    "for epoch in range(2):\n",
    "    print('epoch %d' % epoch)\n",
    "    model.train(sentences.perm(),total_examples=model.corpus_count,epochs=model.epochs)"
   ]
  },
  {
   "cell_type": "code",
   "execution_count": 10,
   "metadata": {
    "collapsed": true
   },
   "outputs": [],
   "source": [
    "train_arrays = np.zeros((25000, 100))\n",
    "train_labels = np.zeros(25000)\n",
    "test_arrays = np.zeros((25000, 100))\n",
    "test_labels = np.zeros(25000)\n",
    "for i in range(12500):\n",
    "    prefix_train_pos = 'TRAIN_POS_' + str(i)\n",
    "    prefix_train_neg = 'TRAIN_NEG_' + str(i)\n",
    "    # note that the attribute is model.docvecs\n",
    "    train_arrays[i], train_arrays[12500+i] = model.docvecs[prefix_train_pos], model.docvecs[prefix_train_neg]\n",
    "    train_labels[i], train_labels[12500+i] = 1, 0\n",
    "\n",
    "for i in range(12500):\n",
    "    prefix_test_pos = 'TEST_POS_' + str(i)\n",
    "    prefix_test_neg = 'TEST_NEG_' + str(i)\n",
    "    test_arrays[i], test_arrays[12500 + i] = model.docvecs[prefix_test_pos], model.docvecs[prefix_test_neg]\n",
    "    test_labels[i], test_labels[12500 + i] = 1, 0"
   ]
  },
  {
   "cell_type": "code",
   "execution_count": 11,
   "metadata": {},
   "outputs": [
    {
     "data": {
      "text/plain": [
       "0.83692"
      ]
     },
     "execution_count": 11,
     "metadata": {},
     "output_type": "execute_result"
    }
   ],
   "source": [
    "classifier = LogisticRegression()\n",
    "classifier.fit(train_arrays, train_labels)\n",
    "classifier.score(test_arrays, test_labels)"
   ]
  }
 ],
 "metadata": {
  "kernelspec": {
   "display_name": "Python 3",
   "language": "python",
   "name": "python3"
  },
  "language_info": {
   "codemirror_mode": {
    "name": "ipython",
    "version": 3
   },
   "file_extension": ".py",
   "mimetype": "text/x-python",
   "name": "python",
   "nbconvert_exporter": "python",
   "pygments_lexer": "ipython3",
   "version": "3.6.3"
  }
 },
 "nbformat": 4,
 "nbformat_minor": 2
}
