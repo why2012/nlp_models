{
 "cells": [
  {
   "cell_type": "code",
   "execution_count": 3,
   "metadata": {},
   "outputs": [
    {
     "name": "stderr",
     "output_type": "stream",
     "text": [
      "D:\\Miniconda3\\lib\\site-packages\\h5py\\__init__.py:34: FutureWarning: Conversion of the second argument of issubdtype from `float` to `np.floating` is deprecated. In future, it will be treated as `np.float64 == np.dtype(float).type`.\n",
      "  from ._conv import register_converters as _register_converters\n",
      "Using TensorFlow backend.\n"
     ]
    }
   ],
   "source": [
    "from __future__ import division\n",
    "from __future__ import absolute_import\n",
    "from __future__ import print_function\n",
    "import tensorflow as tf \n",
    "from keras.engine.topology import Layer\n",
    "from keras.layers import Dense, Input, Flatten, Dropout\n",
    "from keras.layers import Conv1D, MaxPooling1D, Embedding\n",
    "from keras.callbacks import ModelCheckpoint, EarlyStopping\n",
    "from keras.optimizers import Adam\n",
    "from keras.models import Model\n",
    "import keras.backend as K\n",
    "import numpy as np\n",
    "from keras.datasets import imdb\n",
    "import preprocessing\n",
    "from sklearn.metrics import accuracy_score"
   ]
  },
  {
   "cell_type": "code",
   "execution_count": 28,
   "metadata": {},
   "outputs": [
    {
     "data": {
      "text/plain": [
       "<module 'preprocessing' from 'D:\\\\jupyter-workdir\\\\nlp\\\\bg_fusion\\\\preprocessing.py'>"
      ]
     },
     "execution_count": 28,
     "metadata": {},
     "output_type": "execute_result"
    }
   ],
   "source": [
    "import importlib\n",
    "importlib.reload(preprocessing)"
   ]
  },
  {
   "cell_type": "code",
   "execution_count": 29,
   "metadata": {
    "collapsed": true
   },
   "outputs": [],
   "source": [
    "(X_train, y_train), (X_test, y_test) = imdb.load_data(path=\"E:/paper/stackingmodel/imdb/imdb.npz\", num_words=10000)"
   ]
  },
  {
   "cell_type": "code",
   "execution_count": 71,
   "metadata": {},
   "outputs": [],
   "source": [
    "[X_train_cut, X_test_cut], (min_len, max_len) = preprocessing.auto_padding([X_train, X_test], sentence_size=300)"
   ]
  },
  {
   "cell_type": "code",
   "execution_count": 96,
   "metadata": {
    "collapsed": true
   },
   "outputs": [],
   "source": [
    "def get_spp_embeding_model(num_words, mode = \"avg\", word_num_per_sent = 100, word_size = 100):\n",
    "    word_indices = Input(shape=[word_num_per_sent], name=\"word_indices\")\n",
    "    word_embedding = Embedding(num_words, word_size)(word_indices)\n",
    "    x_flow = word_embedding\n",
    "    x_flow = Dropout(0.1)(word_embedding)\n",
    "    x_flow = Conv1D(256, 3, padding='same', activation='relu', strides=1)(x_flow)\n",
    "    x_flow = MaxPooling1D(3)(x_flow)\n",
    "    x_flow = Flatten()(x_flow)\n",
    "    x_flow = Dense(word_size, activation='relu')(x_flow)\n",
    "    y_output = Dense(1, activation='sigmoid')(x_flow)\n",
    "    sgd = Adam(lr=1e-3)\n",
    "    model = Model(inputs=[word_indices], outputs=y_output)\n",
    "    model.compile(loss='binary_crossentropy', optimizer=sgd, metrics=['accuracy'])\n",
    "    return model"
   ]
  },
  {
   "cell_type": "code",
   "execution_count": 97,
   "metadata": {},
   "outputs": [
    {
     "name": "stdout",
     "output_type": "stream",
     "text": [
      "_________________________________________________________________\n",
      "Layer (type)                 Output Shape              Param #   \n",
      "=================================================================\n",
      "word_indices (InputLayer)    (None, 300)               0         \n",
      "_________________________________________________________________\n",
      "embedding_15 (Embedding)     (None, 300, 200)          2000000   \n",
      "_________________________________________________________________\n",
      "dropout_13 (Dropout)         (None, 300, 200)          0         \n",
      "_________________________________________________________________\n",
      "conv1d_15 (Conv1D)           (None, 300, 256)          153856    \n",
      "_________________________________________________________________\n",
      "max_pooling1d_14 (MaxPooling (None, 100, 256)          0         \n",
      "_________________________________________________________________\n",
      "flatten_14 (Flatten)         (None, 25600)             0         \n",
      "_________________________________________________________________\n",
      "dense_27 (Dense)             (None, 200)               5120200   \n",
      "_________________________________________________________________\n",
      "dense_28 (Dense)             (None, 1)                 201       \n",
      "=================================================================\n",
      "Total params: 7,274,257\n",
      "Trainable params: 7,274,257\n",
      "Non-trainable params: 0\n",
      "_________________________________________________________________\n"
     ]
    }
   ],
   "source": [
    "embed_model = get_spp_embeding_model(num_words=10000, word_size=200, word_num_per_sent=300)\n",
    "embed_model.summary()"
   ]
  },
  {
   "cell_type": "code",
   "execution_count": 98,
   "metadata": {
    "scrolled": true
   },
   "outputs": [
    {
     "name": "stdout",
     "output_type": "stream",
     "text": [
      "Epoch 1/20\n",
      "25000/25000 [==============================] - 6s 250us/step - loss: 0.7019 - acc: 0.5156\n",
      "Epoch 2/20\n",
      "25000/25000 [==============================] - 5s 209us/step - loss: 0.5995 - acc: 0.6714\n",
      "Epoch 3/20\n",
      "25000/25000 [==============================] - 5s 209us/step - loss: 0.4400 - acc: 0.8886\n",
      "Epoch 4/20\n",
      "25000/25000 [==============================] - 5s 209us/step - loss: 0.3675 - acc: 0.9204\n",
      "Epoch 5/20\n",
      "25000/25000 [==============================] - 5s 210us/step - loss: 0.3155 - acc: 0.9446\n",
      "Epoch 6/20\n",
      "25000/25000 [==============================] - 5s 209us/step - loss: 0.2800 - acc: 0.9568\n",
      "Epoch 7/20\n",
      "25000/25000 [==============================] - 5s 211us/step - loss: 0.2547 - acc: 0.9628\n",
      "Epoch 8/20\n",
      "25000/25000 [==============================] - 5s 210us/step - loss: 0.2351 - acc: 0.9677\n",
      "Epoch 9/20\n",
      "25000/25000 [==============================] - 5s 210us/step - loss: 0.2197 - acc: 0.9695\n",
      "Epoch 10/20\n",
      "25000/25000 [==============================] - 5s 210us/step - loss: 0.2099 - acc: 0.9690\n",
      "Epoch 11/20\n",
      "25000/25000 [==============================] - 5s 212us/step - loss: 0.1969 - acc: 0.9711\n",
      "Epoch 12/20\n",
      "25000/25000 [==============================] - 5s 211us/step - loss: 0.1856 - acc: 0.9728\n",
      "Epoch 13/20\n",
      "25000/25000 [==============================] - 5s 211us/step - loss: 0.1758 - acc: 0.9740\n",
      "Epoch 14/20\n",
      "25000/25000 [==============================] - 5s 211us/step - loss: 0.1691 - acc: 0.9738\n",
      "Epoch 15/20\n",
      "25000/25000 [==============================] - 5s 209us/step - loss: 0.1653 - acc: 0.9726\n",
      "Epoch 16/20\n",
      "25000/25000 [==============================] - 5s 212us/step - loss: 0.1552 - acc: 0.9748\n",
      "Epoch 17/20\n",
      "25000/25000 [==============================] - 5s 212us/step - loss: 0.1484 - acc: 0.9754\n",
      "Epoch 18/20\n",
      "25000/25000 [==============================] - 5s 209us/step - loss: 0.1428 - acc: 0.9758\n",
      "Epoch 19/20\n",
      "25000/25000 [==============================] - 5s 212us/step - loss: 0.1383 - acc: 0.9760\n",
      "Epoch 20/20\n",
      "25000/25000 [==============================] - 5s 212us/step - loss: 0.1343 - acc: 0.9761\n"
     ]
    },
    {
     "data": {
      "text/plain": [
       "<keras.callbacks.History at 0x24902b3be10>"
      ]
     },
     "execution_count": 98,
     "metadata": {},
     "output_type": "execute_result"
    }
   ],
   "source": [
    "embed_model.fit(X_train_cut, y_train, batch_size=256, epochs=20)"
   ]
  },
  {
   "cell_type": "code",
   "execution_count": 99,
   "metadata": {},
   "outputs": [
    {
     "data": {
      "text/plain": [
       "0.85324"
      ]
     },
     "execution_count": 99,
     "metadata": {},
     "output_type": "execute_result"
    }
   ],
   "source": [
    "test_y_hat = embed_model.predict(X_test_cut)\n",
    "accuracy_score(y_test, np.round(test_y_hat + 1e-5))"
   ]
  },
  {
   "cell_type": "code",
   "execution_count": null,
   "metadata": {
    "collapsed": true
   },
   "outputs": [],
   "source": []
  }
 ],
 "metadata": {
  "kernelspec": {
   "display_name": "Python 3",
   "language": "python",
   "name": "python3"
  },
  "language_info": {
   "codemirror_mode": {
    "name": "ipython",
    "version": 3
   },
   "file_extension": ".py",
   "mimetype": "text/x-python",
   "name": "python",
   "nbconvert_exporter": "python",
   "pygments_lexer": "ipython3",
   "version": "3.6.3"
  }
 },
 "nbformat": 4,
 "nbformat_minor": 2
}
